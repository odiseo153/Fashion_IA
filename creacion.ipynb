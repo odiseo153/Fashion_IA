{
  "cells": [
    {
      "cell_type": "code",
      "execution_count": null,
      "metadata": {
        "id": "5vZyTKEdLP80"
      },
      "outputs": [],
      "source": [
        "#!pip install xgboost"
      ]
    },
    {
      "cell_type": "code",
      "execution_count": 36,
      "metadata": {},
      "outputs": [
        {
          "name": "stdout",
          "output_type": "stream",
          "text": [
            "Defaulting to user installation because normal site-packages is not writeable\n",
            "Collecting selenium\n",
            "  Using cached selenium-4.25.0-py3-none-any.whl.metadata (7.1 kB)\n",
            "Requirement already satisfied: beautifulsoup4 in c:\\users\\odiseo\\appdata\\local\\packages\\pythonsoftwarefoundation.python.3.12_qbz5n2kfra8p0\\localcache\\local-packages\\python312\\site-packages (4.12.3)\n",
            "Collecting webdriver-manager\n",
            "  Using cached webdriver_manager-4.0.2-py2.py3-none-any.whl.metadata (12 kB)\n",
            "Requirement already satisfied: urllib3<3,>=1.26 in c:\\users\\odiseo\\appdata\\local\\packages\\pythonsoftwarefoundation.python.3.12_qbz5n2kfra8p0\\localcache\\local-packages\\python312\\site-packages (from urllib3[socks]<3,>=1.26->selenium) (2.1.0)\n",
            "Collecting trio~=0.17 (from selenium)\n",
            "  Using cached trio-0.26.2-py3-none-any.whl.metadata (8.6 kB)\n",
            "Collecting trio-websocket~=0.9 (from selenium)\n",
            "  Using cached trio_websocket-0.11.1-py3-none-any.whl.metadata (4.7 kB)\n",
            "Requirement already satisfied: certifi>=2021.10.8 in c:\\users\\odiseo\\appdata\\local\\packages\\pythonsoftwarefoundation.python.3.12_qbz5n2kfra8p0\\localcache\\local-packages\\python312\\site-packages (from selenium) (2023.11.17)\n",
            "Requirement already satisfied: typing_extensions~=4.9 in c:\\users\\odiseo\\appdata\\local\\packages\\pythonsoftwarefoundation.python.3.12_qbz5n2kfra8p0\\localcache\\local-packages\\python312\\site-packages (from selenium) (4.9.0)\n",
            "Requirement already satisfied: websocket-client~=1.8 in c:\\users\\odiseo\\appdata\\local\\packages\\pythonsoftwarefoundation.python.3.12_qbz5n2kfra8p0\\localcache\\local-packages\\python312\\site-packages (from selenium) (1.8.0)\n",
            "Requirement already satisfied: soupsieve>1.2 in c:\\users\\odiseo\\appdata\\local\\packages\\pythonsoftwarefoundation.python.3.12_qbz5n2kfra8p0\\localcache\\local-packages\\python312\\site-packages (from beautifulsoup4) (2.5)\n",
            "Requirement already satisfied: requests in c:\\users\\odiseo\\appdata\\local\\packages\\pythonsoftwarefoundation.python.3.12_qbz5n2kfra8p0\\localcache\\local-packages\\python312\\site-packages (from webdriver-manager) (2.31.0)\n",
            "Requirement already satisfied: python-dotenv in c:\\users\\odiseo\\appdata\\local\\packages\\pythonsoftwarefoundation.python.3.12_qbz5n2kfra8p0\\localcache\\local-packages\\python312\\site-packages (from webdriver-manager) (1.0.0)\n",
            "Requirement already satisfied: packaging in c:\\users\\odiseo\\appdata\\local\\packages\\pythonsoftwarefoundation.python.3.12_qbz5n2kfra8p0\\localcache\\local-packages\\python312\\site-packages (from webdriver-manager) (24.0)\n",
            "Requirement already satisfied: attrs>=23.2.0 in c:\\users\\odiseo\\appdata\\local\\packages\\pythonsoftwarefoundation.python.3.12_qbz5n2kfra8p0\\localcache\\local-packages\\python312\\site-packages (from trio~=0.17->selenium) (23.2.0)\n",
            "Requirement already satisfied: sortedcontainers in c:\\users\\odiseo\\appdata\\local\\packages\\pythonsoftwarefoundation.python.3.12_qbz5n2kfra8p0\\localcache\\local-packages\\python312\\site-packages (from trio~=0.17->selenium) (2.4.0)\n",
            "Requirement already satisfied: idna in c:\\users\\odiseo\\appdata\\local\\packages\\pythonsoftwarefoundation.python.3.12_qbz5n2kfra8p0\\localcache\\local-packages\\python312\\site-packages (from trio~=0.17->selenium) (2.10)\n",
            "Collecting outcome (from trio~=0.17->selenium)\n",
            "  Using cached outcome-1.3.0.post0-py2.py3-none-any.whl.metadata (2.6 kB)\n",
            "Requirement already satisfied: sniffio>=1.3.0 in c:\\users\\odiseo\\appdata\\local\\packages\\pythonsoftwarefoundation.python.3.12_qbz5n2kfra8p0\\localcache\\local-packages\\python312\\site-packages (from trio~=0.17->selenium) (1.3.0)\n",
            "Requirement already satisfied: cffi>=1.14 in c:\\users\\odiseo\\appdata\\local\\packages\\pythonsoftwarefoundation.python.3.12_qbz5n2kfra8p0\\localcache\\local-packages\\python312\\site-packages (from trio~=0.17->selenium) (1.16.0)\n",
            "Requirement already satisfied: wsproto>=0.14 in c:\\users\\odiseo\\appdata\\local\\packages\\pythonsoftwarefoundation.python.3.12_qbz5n2kfra8p0\\localcache\\local-packages\\python312\\site-packages (from trio-websocket~=0.9->selenium) (1.2.0)\n",
            "Requirement already satisfied: pysocks!=1.5.7,<2.0,>=1.5.6 in c:\\users\\odiseo\\appdata\\local\\packages\\pythonsoftwarefoundation.python.3.12_qbz5n2kfra8p0\\localcache\\local-packages\\python312\\site-packages (from urllib3[socks]<3,>=1.26->selenium) (1.7.1)\n",
            "Requirement already satisfied: charset-normalizer<4,>=2 in c:\\users\\odiseo\\appdata\\local\\packages\\pythonsoftwarefoundation.python.3.12_qbz5n2kfra8p0\\localcache\\local-packages\\python312\\site-packages (from requests->webdriver-manager) (3.3.2)\n",
            "Requirement already satisfied: pycparser in c:\\users\\odiseo\\appdata\\local\\packages\\pythonsoftwarefoundation.python.3.12_qbz5n2kfra8p0\\localcache\\local-packages\\python312\\site-packages (from cffi>=1.14->trio~=0.17->selenium) (2.21)\n",
            "Requirement already satisfied: h11<1,>=0.9.0 in c:\\users\\odiseo\\appdata\\local\\packages\\pythonsoftwarefoundation.python.3.12_qbz5n2kfra8p0\\localcache\\local-packages\\python312\\site-packages (from wsproto>=0.14->trio-websocket~=0.9->selenium) (0.14.0)\n",
            "Using cached selenium-4.25.0-py3-none-any.whl (9.7 MB)\n",
            "Using cached webdriver_manager-4.0.2-py2.py3-none-any.whl (27 kB)\n",
            "Using cached trio-0.26.2-py3-none-any.whl (475 kB)\n",
            "Using cached trio_websocket-0.11.1-py3-none-any.whl (17 kB)\n",
            "Using cached outcome-1.3.0.post0-py2.py3-none-any.whl (10 kB)\n",
            "Installing collected packages: outcome, webdriver-manager, trio, trio-websocket, selenium\n",
            "Successfully installed outcome-1.3.0.post0 selenium-4.25.0 trio-0.26.2 trio-websocket-0.11.1 webdriver-manager-4.0.2\n"
          ]
        },
        {
          "name": "stderr",
          "output_type": "stream",
          "text": [
            "\n",
            "[notice] A new release of pip is available: 24.1.2 -> 24.2\n",
            "[notice] To update, run: python.exe -m pip install --upgrade pip\n"
          ]
        }
      ],
      "source": [
        "!pip install selenium beautifulsoup4 webdriver-manager\n"
      ]
    },
    {
      "cell_type": "code",
      "execution_count": 43,
      "metadata": {},
      "outputs": [],
      "source": [
        "from selenium import webdriver\n",
        "from selenium.webdriver.common.by import By\n",
        "from selenium.webdriver.chrome.service import Service\n",
        "from webdriver_manager.chrome import ChromeDriverManager\n",
        "from bs4 import BeautifulSoup\n",
        "import time\n",
        "\n",
        "def obtener_imagenes_pinterest(busqueda, max_images=10):\n",
        "    # Inicializa las opciones del navegador\n",
        "    options = webdriver.ChromeOptions()\n",
        "    options.add_argument(\"--headless\")  # Modo sin cabeza, para que no abra el navegador\n",
        "    options.add_argument(\"--disable-gpu\")  # Deshabilita la GPU para evitar algunos errores\n",
        "    options.add_argument(\"--no-sandbox\")  # Evitar problemas en contenedores\n",
        "    options.add_argument(\"--disable-dev-shm-usage\")  # Solución de problemas de memoria compartida en Linux\n",
        "\n",
        "    # Inicializa el driver de Chrome en modo headless\n",
        "    driver = webdriver.Chrome(service=Service(ChromeDriverManager().install()), options=options)\n",
        "\n",
        "    # Construir la URL de búsqueda en Pinterest\n",
        "    busqueda_url = f\"https://www.pinterest.com/search/pins/?q={busqueda.replace(' ', '%20')}\"\n",
        "\n",
        "    # Cargar la página\n",
        "    driver.get(busqueda_url)\n",
        "    time.sleep(5)  # Esperar a que cargue la página completamente\n",
        "\n",
        "    # Desplazarse hacia abajo para cargar más imágenes (opcional)\n",
        "    for _ in range(3):\n",
        "        driver.execute_script(\"window.scrollTo(0, document.body.scrollHeight);\")\n",
        "        time.sleep(3)\n",
        "\n",
        "    # Usar BeautifulSoup para analizar el HTML\n",
        "    soup = BeautifulSoup(driver.page_source, 'html.parser')\n",
        "\n",
        "    # Extraer las URLs de las imágenes\n",
        "    imagenes = []\n",
        "    for img_tag in soup.find_all('img', {'src': True}):\n",
        "        src = img_tag['src']\n",
        "        if src and 'pinimg.com' in src:  # Filtrar URLs de Pinterest\n",
        "            imagenes.append(src)\n",
        "            if len(imagenes) >= max_images:\n",
        "                break\n",
        "\n",
        "    driver.quit()  # Cerrar el navegador\n",
        "    return imagenes\n",
        "\n",
        "\n"
      ]
    },
    {
      "cell_type": "code",
      "execution_count": 45,
      "metadata": {},
      "outputs": [
        {
          "name": "stdout",
          "output_type": "stream",
          "text": [
            "Imagen 1: https://i.pinimg.com/236x/fa/0d/07/fa0d073eb1fec2ec336e3a71adc95da1.jpg\n",
            "Imagen 2: https://i.pinimg.com/236x/71/12/ca/7112ca6574ee056db43b8c861bd08b3d.jpg\n",
            "Imagen 3: https://i.pinimg.com/236x/10/9c/c0/109cc068a74c61f29d7733549c197029.jpg\n",
            "Imagen 4: https://i.pinimg.com/236x/dc/41/7e/dc417e0aabde7cad29f616f7fe10abe7.jpg\n",
            "Imagen 5: https://i.pinimg.com/236x/8b/29/79/8b2979d19fb837541a0a57f8424045e0.jpg\n",
            "Imagen 6: https://i.pinimg.com/236x/ec/a6/83/eca683899c09c368bef4c37e55628659.jpg\n",
            "Imagen 7: https://i.pinimg.com/videos/thumbnails/originals/ac/9e/59/ac9e59c1a3677b5ea68392efebaecd92.0000000.jpg\n"
          ]
        }
      ],
      "source": [
        "# Ejemplo de uso\n",
        "imagenes_encontradas = obtener_imagenes_pinterest('shoes', max_images=7)\n",
        "for idx, img_url in enumerate(imagenes_encontradas):\n",
        "    print(f\"Imagen {idx + 1}: {img_url}\")"
      ]
    },
    {
      "cell_type": "code",
      "execution_count": 16,
      "metadata": {
        "id": "LRUPl-YzTB_0"
      },
      "outputs": [],
      "source": [
        "#import spacy\n",
        "from sklearn.model_selection import train_test_split\n",
        "import pandas as pd\n",
        "from scipy.sparse import hstack\n",
        "import joblib\n",
        "import xgboost as xgb\n",
        "import re\n",
        "import nltk\n",
        "from sklearn.feature_extraction.text import TfidfVectorizer\n",
        "from nltk.corpus import stopwords\n",
        "from nltk.stem import WordNetLemmatizer\n",
        "from sklearn.metrics import mean_squared_error, r2_score\n",
        "import numpy as np\n",
        "from sklearn.metrics import accuracy_score\n",
        "from sklearn.multioutput import MultiOutputClassifier\n",
        "import gc\n",
        "import scipy.sparse as sp\n",
        "from sklearn.neighbors import KNeighborsClassifier\n",
        "\n",
        "import tensorflow as tf\n",
        "from tensorflow.keras.models import Sequential\n",
        "from tensorflow.keras.layers import Dense, Dropout\n",
        "from tensorflow.keras.optimizers import Adam"
      ]
    },
    {
      "cell_type": "code",
      "execution_count": 17,
      "metadata": {
        "colab": {
          "base_uri": "https://localhost:8080/"
        },
        "id": "t8XVXR9JJ6si",
        "outputId": "7cc38fb7-3ed6-4ffd-edda-e290a284badf"
      },
      "outputs": [
        {
          "name": "stderr",
          "output_type": "stream",
          "text": [
            "[nltk_data] Downloading package stopwords to\n",
            "[nltk_data]     C:\\Users\\Odiseo\\AppData\\Roaming\\nltk_data...\n",
            "[nltk_data]   Package stopwords is already up-to-date!\n",
            "[nltk_data] Downloading package punkt to\n",
            "[nltk_data]     C:\\Users\\Odiseo\\AppData\\Roaming\\nltk_data...\n",
            "[nltk_data]   Package punkt is already up-to-date!\n",
            "[nltk_data] Downloading package wordnet to\n",
            "[nltk_data]     C:\\Users\\Odiseo\\AppData\\Roaming\\nltk_data...\n",
            "[nltk_data]   Package wordnet is already up-to-date!\n"
          ]
        },
        {
          "data": {
            "text/plain": [
              "True"
            ]
          },
          "execution_count": 17,
          "metadata": {},
          "output_type": "execute_result"
        }
      ],
      "source": [
        "# Descargar stopwords si es necesario\n",
        "nltk.download('stopwords')\n",
        "nltk.download('punkt')\n",
        "nltk.download('wordnet')"
      ]
    },
    {
      "cell_type": "code",
      "execution_count": 28,
      "metadata": {
        "id": "GaJlgm6CTUte"
      },
      "outputs": [],
      "source": [
        "df = pd.read_excel('Data_original.csv')"
      ]
    },
    {
      "cell_type": "code",
      "execution_count": 29,
      "metadata": {
        "colab": {
          "base_uri": "https://localhost:8080/",
          "height": 382
        },
        "id": "GgDWas4tC4Y4",
        "outputId": "e6b154de-efc6-48ab-bfb5-ca139f328f0f"
      },
      "outputs": [
        {
          "data": {
            "text/html": [
              "<div>\n",
              "<style scoped>\n",
              "    .dataframe tbody tr th:only-of-type {\n",
              "        vertical-align: middle;\n",
              "    }\n",
              "\n",
              "    .dataframe tbody tr th {\n",
              "        vertical-align: top;\n",
              "    }\n",
              "\n",
              "    .dataframe thead th {\n",
              "        text-align: right;\n",
              "    }\n",
              "</style>\n",
              "<table border=\"1\" class=\"dataframe\">\n",
              "  <thead>\n",
              "    <tr style=\"text-align: right;\">\n",
              "      <th></th>\n",
              "      <th>ropa</th>\n",
              "      <th>genero</th>\n",
              "      <th>estatura</th>\n",
              "      <th>contextura Fisica</th>\n",
              "      <th>ojos</th>\n",
              "      <th>piel</th>\n",
              "      <th>personalidad</th>\n",
              "      <th>ocasion</th>\n",
              "    </tr>\n",
              "  </thead>\n",
              "  <tbody>\n",
              "    <tr>\n",
              "      <th>0</th>\n",
              "      <td>camisa</td>\n",
              "      <td>hombre,mujer</td>\n",
              "      <td>alto,medio,alta</td>\n",
              "      <td>corpulento,delgado,atletico,robusto,corpulenta...</td>\n",
              "      <td>verde,azules,marrones,grises,avellana</td>\n",
              "      <td>negra,blanca,morena,moreno</td>\n",
              "      <td>seguro, confiado, audaz,tranquilo, relajado, i...</td>\n",
              "      <td>Reunion,Entrevista,Cenas formales,Cenas de neg...</td>\n",
              "    </tr>\n",
              "    <tr>\n",
              "      <th>1</th>\n",
              "      <td>bermuda</td>\n",
              "      <td>hombre,mujer</td>\n",
              "      <td>alta,alto,mediano,baja</td>\n",
              "      <td>Delgado, normal, atlético,corpulento</td>\n",
              "      <td>verde,azules,marrones,grises,avellana,amarillo...</td>\n",
              "      <td>negra,blanca,morena,moreno,clara</td>\n",
              "      <td>casual, relajado, práctico,extrovertida</td>\n",
              "      <td>Informales ,casual,playa,casa,vacaciones</td>\n",
              "    </tr>\n",
              "    <tr>\n",
              "      <th>2</th>\n",
              "      <td>camiseta</td>\n",
              "      <td>hombre,mujer</td>\n",
              "      <td>baja, media, alta</td>\n",
              "      <td>delgado, atlético, corpulento,delgada, atlétic...</td>\n",
              "      <td>NaN</td>\n",
              "      <td>clara, morena, oscura</td>\n",
              "      <td>casual, relajado, deportivo, extrovertido, rel...</td>\n",
              "      <td>salidas,actividad deportiva,paseos,cine,reunio...</td>\n",
              "    </tr>\n",
              "    <tr>\n",
              "      <th>3</th>\n",
              "      <td>chaquetas</td>\n",
              "      <td>hombre,mujer</td>\n",
              "      <td>baja, media, alta</td>\n",
              "      <td>delgado, atlético, corpulento,delgada, atlétic...</td>\n",
              "      <td>marron, verde, azul, gris</td>\n",
              "      <td>clara, morena, oscura</td>\n",
              "      <td>seguro, sofisticado, extrovertido, relajado,se...</td>\n",
              "      <td>salida nocturna,evento fomal,reunion al aire l...</td>\n",
              "    </tr>\n",
              "    <tr>\n",
              "      <th>4</th>\n",
              "      <td>falda</td>\n",
              "      <td>mujer</td>\n",
              "      <td>baja, media, alta</td>\n",
              "      <td>delgada, atlética, corpulenta,gorda</td>\n",
              "      <td>marron, verde, azul, gris,rojo,amarillo</td>\n",
              "      <td>clara, morena, oscura</td>\n",
              "      <td>Extrovertida, sofisticada, creativa, segura</td>\n",
              "      <td>cenas formales,reuniones,fiestas,evento de verano</td>\n",
              "    </tr>\n",
              "  </tbody>\n",
              "</table>\n",
              "</div>"
            ],
            "text/plain": [
              "        ropa        genero                estatura  \\\n",
              "0     camisa  hombre,mujer         alto,medio,alta   \n",
              "1    bermuda  hombre,mujer  alta,alto,mediano,baja   \n",
              "2   camiseta  hombre,mujer       baja, media, alta   \n",
              "3  chaquetas  hombre,mujer       baja, media, alta   \n",
              "4      falda         mujer       baja, media, alta   \n",
              "\n",
              "                                   contextura Fisica  \\\n",
              "0  corpulento,delgado,atletico,robusto,corpulenta...   \n",
              "1               Delgado, normal, atlético,corpulento   \n",
              "2  delgado, atlético, corpulento,delgada, atlétic...   \n",
              "3  delgado, atlético, corpulento,delgada, atlétic...   \n",
              "4                delgada, atlética, corpulenta,gorda   \n",
              "\n",
              "                                                ojos  \\\n",
              "0              verde,azules,marrones,grises,avellana   \n",
              "1  verde,azules,marrones,grises,avellana,amarillo...   \n",
              "2                                                NaN   \n",
              "3                          marron, verde, azul, gris   \n",
              "4            marron, verde, azul, gris,rojo,amarillo   \n",
              "\n",
              "                               piel  \\\n",
              "0        negra,blanca,morena,moreno   \n",
              "1  negra,blanca,morena,moreno,clara   \n",
              "2             clara, morena, oscura   \n",
              "3             clara, morena, oscura   \n",
              "4             clara, morena, oscura   \n",
              "\n",
              "                                        personalidad  \\\n",
              "0  seguro, confiado, audaz,tranquilo, relajado, i...   \n",
              "1            casual, relajado, práctico,extrovertida   \n",
              "2  casual, relajado, deportivo, extrovertido, rel...   \n",
              "3  seguro, sofisticado, extrovertido, relajado,se...   \n",
              "4        Extrovertida, sofisticada, creativa, segura   \n",
              "\n",
              "                                             ocasion  \n",
              "0  Reunion,Entrevista,Cenas formales,Cenas de neg...  \n",
              "1           Informales ,casual,playa,casa,vacaciones  \n",
              "2  salidas,actividad deportiva,paseos,cine,reunio...  \n",
              "3  salida nocturna,evento fomal,reunion al aire l...  \n",
              "4  cenas formales,reuniones,fiestas,evento de verano  "
            ]
          },
          "execution_count": 29,
          "metadata": {},
          "output_type": "execute_result"
        }
      ],
      "source": [
        "df.head()"
      ]
    },
    {
      "cell_type": "code",
      "execution_count": 20,
      "metadata": {
        "id": "E8I5JFHtx9rt"
      },
      "outputs": [],
      "source": [
        "def split_column_and_expand(df, column_to_split):\n",
        "    \"\"\"\n",
        "    Divide una columna de un DataFrame en múltiples filas y expande las otras columnas.\n",
        "\n",
        "    Args:\n",
        "        df: El DataFrame de entrada.\n",
        "        column_to_split: El nombre de la columna a dividir.\n",
        "\n",
        "    Returns:\n",
        "        Un DataFrame con la columna dividida en nuevas filas.\n",
        "    \"\"\"\n",
        "    # Verificar si la columna ya es de tipo string\n",
        "    if df[column_to_split].dtype != 'object':\n",
        "        df[column_to_split] = df[column_to_split].astype(str)\n",
        "\n",
        "    # Convertir los valores a minúsculas y dividir por comas en una sola operación\n",
        "    df[column_to_split] = df[column_to_split].str.lower().str.split(',')\n",
        "\n",
        "    # Explode para dividir las listas en nuevas filas\n",
        "    df_expanded = df.explode(column_to_split, ignore_index=True)\n",
        "\n",
        "    # Eliminar espacios en una sola operación usando applymap para evitar copias adicionales\n",
        "    df_expanded[column_to_split] = df_expanded[column_to_split].apply(lambda x: x.strip() if isinstance(x, str) else x)\n",
        "\n",
        "    return df_expanded\n"
      ]
    },
    {
      "cell_type": "code",
      "execution_count": 21,
      "metadata": {
        "id": "J7x3_0Y7x_EV"
      },
      "outputs": [],
      "source": [
        "def expand_all_columns(df):\n",
        "    \"\"\"\n",
        "    Expande todas las columnas de un DataFrame que contengan valores separados por comas.\n",
        "\n",
        "    Args:\n",
        "        df: El DataFrame de entrada.\n",
        "\n",
        "    Returns:\n",
        "        Un nuevo DataFrame con todas las columnas expandidas.\n",
        "    \"\"\"\n",
        "    for col in df.columns:\n",
        "        if df[col].apply(lambda x: isinstance(x, str) and ',' in x).any():\n",
        "            df = split_column_and_expand(df, col)\n",
        "\n",
        "    return df"
      ]
    },
    {
      "cell_type": "code",
      "execution_count": 22,
      "metadata": {
        "id": "WpLPAdS_EDKl"
      },
      "outputs": [],
      "source": [
        "def preprocess_and_vectorize(df, vectorizers=None):\n",
        "    if vectorizers is None:\n",
        "        vectorizers = {}\n",
        "\n",
        "    # Corregir el filtrado de filas vacías de manera más robusta\n",
        "    df = df[df.apply(lambda row: any(row.str.strip()), axis=1)]\n",
        "    df.reset_index(drop=True, inplace=True)\n",
        "\n",
        "    X_text_vectorized = None\n",
        "\n",
        "    # Procesar columna por columna\n",
        "    for col in df.columns:\n",
        "        if col in vectorizers:\n",
        "            # Usar vectorizador existente\n",
        "            vectorizer = vectorizers[col]\n",
        "            X_col_vectorized = vectorizer.transform(df[col])\n",
        "        else:\n",
        "            # Crear nuevo vectorizador si no existe\n",
        "            vectorizer = TfidfVectorizer(stop_words=stopwords.words('spanish'), min_df=1)\n",
        "            vectorizer.fit(df[col])\n",
        "            X_col_vectorized = vectorizer.transform(df[col])\n",
        "            vectorizers[col] = vectorizer\n",
        "\n",
        "        # Concatenar las matrices en una sola (si es la primera, inicializarla)\n",
        "        if X_text_vectorized is None:\n",
        "            X_text_vectorized = X_col_vectorized\n",
        "        else:\n",
        "            X_text_vectorized = sp.hstack([X_text_vectorized, X_col_vectorized])\n",
        "\n",
        "        gc.collect()  # Liberar memoria después de cada columna\n",
        "\n",
        "    return X_text_vectorized,vectorizers"
      ]
    },
    {
      "cell_type": "code",
      "execution_count": 23,
      "metadata": {
        "colab": {
          "base_uri": "https://localhost:8080/"
        },
        "id": "_4c9hcUXKRXi",
        "outputId": "fc2f58ee-e498-45d7-9d6f-361a28205dc8"
      },
      "outputs": [
        {
          "data": {
            "text/plain": [
              "Index(['ropa', 'genero', 'estatura', 'contextura Fisica', 'ojos', 'piel',\n",
              "       'personalidad', 'ocasion'],\n",
              "      dtype='object')"
            ]
          },
          "execution_count": 23,
          "metadata": {},
          "output_type": "execute_result"
        }
      ],
      "source": [
        "df.columns"
      ]
    },
    {
      "cell_type": "code",
      "execution_count": 30,
      "metadata": {
        "id": "rMmH2AFbE-eS"
      },
      "outputs": [],
      "source": [
        "df_expanded = expand_all_columns(df)"
      ]
    },
    {
      "cell_type": "code",
      "execution_count": 33,
      "metadata": {},
      "outputs": [
        {
          "data": {
            "text/plain": [
              "array(['camisa', 'bermuda', 'camiseta', 'chaquetas', 'falda',\n",
              "       'manga_larga', 'pantalon', 'sombrero', 'vestido', 'zapato',\n",
              "       'pulsera masculina', 'reloj masculino'], dtype=object)"
            ]
          },
          "execution_count": 33,
          "metadata": {},
          "output_type": "execute_result"
        }
      ],
      "source": [
        "df_expanded['ropa'].unique()"
      ]
    },
    {
      "cell_type": "code",
      "execution_count": 31,
      "metadata": {
        "colab": {
          "base_uri": "https://localhost:8080/"
        },
        "id": "QEimVVH2FbNH",
        "outputId": "5b31086e-8a35-4ee2-ac64-76bce19219f8"
      },
      "outputs": [
        {
          "data": {
            "text/plain": [
              "1680024"
            ]
          },
          "execution_count": 31,
          "metadata": {},
          "output_type": "execute_result"
        }
      ],
      "source": [
        "len(df_expanded)"
      ]
    },
    {
      "cell_type": "code",
      "execution_count": null,
      "metadata": {
        "id": "Ey8fgXyj0tC1"
      },
      "outputs": [],
      "source": [
        "# Encuentra el tamaño de la categoría más grande\n",
        "max_size = df_expanded.groupby('ropa').size().max()\n",
        "\n",
        "# Aplica sobremuestreo a cada categoría\n",
        "df_expanded = df_expanded.groupby('ropa').apply(lambda x: x.sample(max_size, replace=True)).reset_index(drop=True)"
      ]
    },
    {
      "cell_type": "code",
      "execution_count": null,
      "metadata": {
        "id": "vxqGErhQPo46"
      },
      "outputs": [],
      "source": [
        "# Encuentra el tamaño de la categoría más grande\n",
        "max_size = df_expanded.groupby('genero').size().max()\n",
        "\n",
        "# Aplica sobremuestreo a cada categoría\n",
        "df_expanded = df_expanded.groupby('genero').apply(lambda x: x.sample(max_size, replace=True)).reset_index(drop=True)"
      ]
    },
    {
      "cell_type": "code",
      "execution_count": 32,
      "metadata": {
        "colab": {
          "base_uri": "https://localhost:8080/"
        },
        "id": "f0DW90p2NkWo",
        "outputId": "04abf1b9-aad6-4f97-c607-6ad2d7629b07"
      },
      "outputs": [
        {
          "data": {
            "text/plain": [
              "1680024"
            ]
          },
          "execution_count": 32,
          "metadata": {},
          "output_type": "execute_result"
        }
      ],
      "source": [
        "len(df_expanded)"
      ]
    },
    {
      "cell_type": "code",
      "execution_count": null,
      "metadata": {
        "colab": {
          "base_uri": "https://localhost:8080/"
        },
        "id": "xfuW1mGRyNMk",
        "outputId": "bf72dcf8-872d-4a89-b5c3-79109e8afb6f"
      },
      "outputs": [
        {
          "name": "stdout",
          "output_type": "stream",
          "text": [
            "ropa 10\n",
            "genero 2\n",
            "estatura 6\n",
            "contextura Fisica 14\n",
            "ojos 13\n",
            "piel 7\n",
            "personalidad 29\n",
            "ocasion 33\n"
          ]
        }
      ],
      "source": [
        "for col in df_expanded.columns:\n",
        "    print(col,len(df_expanded[col].unique()))"
      ]
    },
    {
      "cell_type": "code",
      "execution_count": null,
      "metadata": {
        "colab": {
          "base_uri": "https://localhost:8080/"
        },
        "id": "dCiiKdtNNoKA",
        "outputId": "5cfb904c-db95-4c69-9b80-f5d7dc9bf436"
      },
      "outputs": [
        {
          "name": "stdout",
          "output_type": "stream",
          "text": [
            "ropa\n",
            "pantalon       1269063\n",
            "sombrero       1267864\n",
            "bermuda        1267820\n",
            "manga_larga    1266931\n",
            "zapato         1266886\n",
            "chaquetas      1266383\n",
            "camiseta       1266309\n",
            "camisa         1266208\n",
            "falda          1014362\n",
            "vestido        1013174\n",
            "Name: count, dtype: int64\n"
          ]
        }
      ],
      "source": [
        "print(df_expanded['ropa'].value_counts())"
      ]
    },
    {
      "cell_type": "code",
      "execution_count": null,
      "metadata": {
        "id": "SfF3RyCa-NaG"
      },
      "outputs": [],
      "source": [
        "labels_ropa= {categoria: i for i, categoria in enumerate(df_expanded['ropa'].unique())}"
      ]
    },
    {
      "cell_type": "code",
      "execution_count": null,
      "metadata": {
        "id": "xI_eGC_ryk6E"
      },
      "outputs": [],
      "source": [
        "X = df_expanded.drop(columns=['ropa'])\n",
        "y = df_expanded['ropa'].map(labels_ropa)"
      ]
    },
    {
      "cell_type": "code",
      "execution_count": null,
      "metadata": {
        "id": "zcN6x7j2FTBK"
      },
      "outputs": [],
      "source": [
        "x_train, x_test, y_train, y_test = train_test_split(X, y, test_size=0.2, random_state=42)"
      ]
    },
    {
      "cell_type": "code",
      "execution_count": null,
      "metadata": {
        "colab": {
          "base_uri": "https://localhost:8080/",
          "height": 304
        },
        "id": "b1dtr3TsJ_Xq",
        "outputId": "ff0aa478-11b0-4ee4-f154-94956d1342a9"
      },
      "outputs": [
        {
          "data": {
            "text/html": [
              "<div>\n",
              "<style scoped>\n",
              "    .dataframe tbody tr th:only-of-type {\n",
              "        vertical-align: middle;\n",
              "    }\n",
              "\n",
              "    .dataframe tbody tr th {\n",
              "        vertical-align: top;\n",
              "    }\n",
              "\n",
              "    .dataframe thead th {\n",
              "        text-align: right;\n",
              "    }\n",
              "</style>\n",
              "<table border=\"1\" class=\"dataframe\">\n",
              "  <thead>\n",
              "    <tr style=\"text-align: right;\">\n",
              "      <th></th>\n",
              "      <th>0</th>\n",
              "    </tr>\n",
              "  </thead>\n",
              "  <tbody>\n",
              "    <tr>\n",
              "      <th>genero</th>\n",
              "      <td>0</td>\n",
              "    </tr>\n",
              "    <tr>\n",
              "      <th>estatura</th>\n",
              "      <td>0</td>\n",
              "    </tr>\n",
              "    <tr>\n",
              "      <th>contextura Fisica</th>\n",
              "      <td>0</td>\n",
              "    </tr>\n",
              "    <tr>\n",
              "      <th>ojos</th>\n",
              "      <td>1012707</td>\n",
              "    </tr>\n",
              "    <tr>\n",
              "      <th>piel</th>\n",
              "      <td>0</td>\n",
              "    </tr>\n",
              "    <tr>\n",
              "      <th>personalidad</th>\n",
              "      <td>0</td>\n",
              "    </tr>\n",
              "    <tr>\n",
              "      <th>ocasion</th>\n",
              "      <td>2026332</td>\n",
              "    </tr>\n",
              "  </tbody>\n",
              "</table>\n",
              "</div><br><label><b>dtype:</b> int64</label>"
            ],
            "text/plain": [
              "genero                     0\n",
              "estatura                   0\n",
              "contextura Fisica          0\n",
              "ojos                 1012707\n",
              "piel                       0\n",
              "personalidad               0\n",
              "ocasion              2026332\n",
              "dtype: int64"
            ]
          },
          "execution_count": 20,
          "metadata": {},
          "output_type": "execute_result"
        }
      ],
      "source": [
        "x_train.isna().sum()"
      ]
    },
    {
      "cell_type": "code",
      "execution_count": null,
      "metadata": {
        "id": "OIId2IKXysms"
      },
      "outputs": [],
      "source": [
        "x_train.fillna('desconocido', inplace=True)\n",
        "x_test.fillna('desconocido', inplace=True)"
      ]
    },
    {
      "cell_type": "code",
      "execution_count": null,
      "metadata": {
        "colab": {
          "base_uri": "https://localhost:8080/",
          "height": 304
        },
        "id": "3axDymEFQQwA",
        "outputId": "578af153-dc65-4e53-8b77-2bd8425cdf17"
      },
      "outputs": [
        {
          "data": {
            "text/html": [
              "<div>\n",
              "<style scoped>\n",
              "    .dataframe tbody tr th:only-of-type {\n",
              "        vertical-align: middle;\n",
              "    }\n",
              "\n",
              "    .dataframe tbody tr th {\n",
              "        vertical-align: top;\n",
              "    }\n",
              "\n",
              "    .dataframe thead th {\n",
              "        text-align: right;\n",
              "    }\n",
              "</style>\n",
              "<table border=\"1\" class=\"dataframe\">\n",
              "  <thead>\n",
              "    <tr style=\"text-align: right;\">\n",
              "      <th></th>\n",
              "      <th>0</th>\n",
              "    </tr>\n",
              "  </thead>\n",
              "  <tbody>\n",
              "    <tr>\n",
              "      <th>genero</th>\n",
              "      <td>0</td>\n",
              "    </tr>\n",
              "    <tr>\n",
              "      <th>estatura</th>\n",
              "      <td>0</td>\n",
              "    </tr>\n",
              "    <tr>\n",
              "      <th>contextura Fisica</th>\n",
              "      <td>0</td>\n",
              "    </tr>\n",
              "    <tr>\n",
              "      <th>ojos</th>\n",
              "      <td>0</td>\n",
              "    </tr>\n",
              "    <tr>\n",
              "      <th>piel</th>\n",
              "      <td>0</td>\n",
              "    </tr>\n",
              "    <tr>\n",
              "      <th>personalidad</th>\n",
              "      <td>0</td>\n",
              "    </tr>\n",
              "    <tr>\n",
              "      <th>ocasion</th>\n",
              "      <td>0</td>\n",
              "    </tr>\n",
              "  </tbody>\n",
              "</table>\n",
              "</div><br><label><b>dtype:</b> int64</label>"
            ],
            "text/plain": [
              "genero               0\n",
              "estatura             0\n",
              "contextura Fisica    0\n",
              "ojos                 0\n",
              "piel                 0\n",
              "personalidad         0\n",
              "ocasion              0\n",
              "dtype: int64"
            ]
          },
          "execution_count": 22,
          "metadata": {},
          "output_type": "execute_result"
        }
      ],
      "source": [
        "x_train.isna().sum()"
      ]
    },
    {
      "cell_type": "code",
      "execution_count": null,
      "metadata": {
        "colab": {
          "base_uri": "https://localhost:8080/"
        },
        "id": "27csuvvvJ_9-",
        "outputId": "65145b07-1abc-4d59-efe4-bb721889f418"
      },
      "outputs": [
        {
          "data": {
            "text/plain": [
              "7"
            ]
          },
          "execution_count": 23,
          "metadata": {},
          "output_type": "execute_result"
        }
      ],
      "source": [
        "x_train.shape[1]"
      ]
    },
    {
      "cell_type": "code",
      "execution_count": null,
      "metadata": {
        "id": "DYVs4XYy_l0I"
      },
      "outputs": [],
      "source": [
        "train,vectorizador = preprocess_and_vectorize(x_train)"
      ]
    },
    {
      "cell_type": "code",
      "execution_count": null,
      "metadata": {
        "colab": {
          "base_uri": "https://localhost:8080/"
        },
        "id": "TnltMXWS0pLL",
        "outputId": "8d0d7663-ebfe-4128-e158-9757c08b9d50"
      },
      "outputs": [
        {
          "data": {
            "text/plain": [
              "['train.pkl']"
            ]
          },
          "execution_count": 25,
          "metadata": {},
          "output_type": "execute_result"
        }
      ],
      "source": [
        "joblib.dump(vectorizador, 'vectorizador.pkl')\n",
        "joblib.dump(train, 'train.pkl')"
      ]
    },
    {
      "cell_type": "code",
      "execution_count": null,
      "metadata": {
        "colab": {
          "base_uri": "https://localhost:8080/"
        },
        "id": "wp2bHu7EJ-Og",
        "outputId": "0826500e-0fb7-4c3c-f542-2652be629430"
      },
      "outputs": [
        {
          "data": {
            "text/plain": [
              "7"
            ]
          },
          "execution_count": 26,
          "metadata": {},
          "output_type": "execute_result"
        }
      ],
      "source": [
        "x_train.shape[1]"
      ]
    },
    {
      "cell_type": "code",
      "execution_count": null,
      "metadata": {
        "id": "EHPDjJl8SuBi"
      },
      "outputs": [],
      "source": [
        "#train = joblib.load('/content/train.pkl')\n",
        "#vectorizador = joblib.load('/content/vectorizador.pkl')"
      ]
    },
    {
      "cell_type": "code",
      "execution_count": null,
      "metadata": {
        "id": "QLCWQ4tO0bwp"
      },
      "outputs": [],
      "source": [
        "\n",
        "model_xgb_multi = xgb.XGBClassifier(\n",
        "    objective='multi:softmax',  # Cambiar a 'multi:softmax' o 'multi:softprob'\n",
        "    num_class=10,                # Número de clases (0, 1, 2, 3, 4, 5)\n",
        "    n_estimators=200,\n",
        "    max_depth=6,\n",
        "    learning_rate=0.08,\n",
        "    subsample=0.8,\n",
        "    colsample_bytree=0.8,\n",
        "    reg_lambda=1,\n",
        "    reg_alpha=0,\n",
        "    random_state=42\n",
        ")\n"
      ]
    },
    {
      "cell_type": "code",
      "execution_count": null,
      "metadata": {
        "colab": {
          "base_uri": "https://localhost:8080/",
          "height": 248
        },
        "id": "7tJbuHZHj38Y",
        "outputId": "ce76d74e-32a9-4216-ad04-2535aeaaa34d"
      },
      "outputs": [
        {
          "data": {
            "text/html": [
              "<style>#sk-container-id-1 {color: black;}#sk-container-id-1 pre{padding: 0;}#sk-container-id-1 div.sk-toggleable {background-color: white;}#sk-container-id-1 label.sk-toggleable__label {cursor: pointer;display: block;width: 100%;margin-bottom: 0;padding: 0.3em;box-sizing: border-box;text-align: center;}#sk-container-id-1 label.sk-toggleable__label-arrow:before {content: \"▸\";float: left;margin-right: 0.25em;color: #696969;}#sk-container-id-1 label.sk-toggleable__label-arrow:hover:before {color: black;}#sk-container-id-1 div.sk-estimator:hover label.sk-toggleable__label-arrow:before {color: black;}#sk-container-id-1 div.sk-toggleable__content {max-height: 0;max-width: 0;overflow: hidden;text-align: left;background-color: #f0f8ff;}#sk-container-id-1 div.sk-toggleable__content pre {margin: 0.2em;color: black;border-radius: 0.25em;background-color: #f0f8ff;}#sk-container-id-1 input.sk-toggleable__control:checked~div.sk-toggleable__content {max-height: 200px;max-width: 100%;overflow: auto;}#sk-container-id-1 input.sk-toggleable__control:checked~label.sk-toggleable__label-arrow:before {content: \"▾\";}#sk-container-id-1 div.sk-estimator input.sk-toggleable__control:checked~label.sk-toggleable__label {background-color: #d4ebff;}#sk-container-id-1 div.sk-label input.sk-toggleable__control:checked~label.sk-toggleable__label {background-color: #d4ebff;}#sk-container-id-1 input.sk-hidden--visually {border: 0;clip: rect(1px 1px 1px 1px);clip: rect(1px, 1px, 1px, 1px);height: 1px;margin: -1px;overflow: hidden;padding: 0;position: absolute;width: 1px;}#sk-container-id-1 div.sk-estimator {font-family: monospace;background-color: #f0f8ff;border: 1px dotted black;border-radius: 0.25em;box-sizing: border-box;margin-bottom: 0.5em;}#sk-container-id-1 div.sk-estimator:hover {background-color: #d4ebff;}#sk-container-id-1 div.sk-parallel-item::after {content: \"\";width: 100%;border-bottom: 1px solid gray;flex-grow: 1;}#sk-container-id-1 div.sk-label:hover label.sk-toggleable__label {background-color: #d4ebff;}#sk-container-id-1 div.sk-serial::before {content: \"\";position: absolute;border-left: 1px solid gray;box-sizing: border-box;top: 0;bottom: 0;left: 50%;z-index: 0;}#sk-container-id-1 div.sk-serial {display: flex;flex-direction: column;align-items: center;background-color: white;padding-right: 0.2em;padding-left: 0.2em;position: relative;}#sk-container-id-1 div.sk-item {position: relative;z-index: 1;}#sk-container-id-1 div.sk-parallel {display: flex;align-items: stretch;justify-content: center;background-color: white;position: relative;}#sk-container-id-1 div.sk-item::before, #sk-container-id-1 div.sk-parallel-item::before {content: \"\";position: absolute;border-left: 1px solid gray;box-sizing: border-box;top: 0;bottom: 0;left: 50%;z-index: -1;}#sk-container-id-1 div.sk-parallel-item {display: flex;flex-direction: column;z-index: 1;position: relative;background-color: white;}#sk-container-id-1 div.sk-parallel-item:first-child::after {align-self: flex-end;width: 50%;}#sk-container-id-1 div.sk-parallel-item:last-child::after {align-self: flex-start;width: 50%;}#sk-container-id-1 div.sk-parallel-item:only-child::after {width: 0;}#sk-container-id-1 div.sk-dashed-wrapped {border: 1px dashed gray;margin: 0 0.4em 0.5em 0.4em;box-sizing: border-box;padding-bottom: 0.4em;background-color: white;}#sk-container-id-1 div.sk-label label {font-family: monospace;font-weight: bold;display: inline-block;line-height: 1.2em;}#sk-container-id-1 div.sk-label-container {text-align: center;}#sk-container-id-1 div.sk-container {/* jupyter's `normalize.less` sets `[hidden] { display: none; }` but bootstrap.min.css set `[hidden] { display: none !important; }` so we also need the `!important` here to be able to override the default hidden behavior on the sphinx rendered scikit-learn.org. See: https://github.com/scikit-learn/scikit-learn/issues/21755 */display: inline-block !important;position: relative;}#sk-container-id-1 div.sk-text-repr-fallback {display: none;}</style><div id=\"sk-container-id-1\" class=\"sk-top-container\"><div class=\"sk-text-repr-fallback\"><pre>XGBClassifier(base_score=None, booster=None, callbacks=None,\n",
              "              colsample_bylevel=None, colsample_bynode=None,\n",
              "              colsample_bytree=0.8, device=None, early_stopping_rounds=None,\n",
              "              enable_categorical=False, eval_metric=None, feature_types=None,\n",
              "              gamma=None, grow_policy=None, importance_type=None,\n",
              "              interaction_constraints=None, learning_rate=0.08, max_bin=None,\n",
              "              max_cat_threshold=None, max_cat_to_onehot=None,\n",
              "              max_delta_step=None, max_depth=6, max_leaves=None,\n",
              "              min_child_weight=None, missing=nan, monotone_constraints=None,\n",
              "              multi_strategy=None, n_estimators=200, n_jobs=None, num_class=10,\n",
              "              num_parallel_tree=None, ...)</pre><b>In a Jupyter environment, please rerun this cell to show the HTML representation or trust the notebook. <br />On GitHub, the HTML representation is unable to render, please try loading this page with nbviewer.org.</b></div><div class=\"sk-container\" hidden><div class=\"sk-item\"><div class=\"sk-estimator sk-toggleable\"><input class=\"sk-toggleable__control sk-hidden--visually\" id=\"sk-estimator-id-1\" type=\"checkbox\" checked><label for=\"sk-estimator-id-1\" class=\"sk-toggleable__label sk-toggleable__label-arrow\">XGBClassifier</label><div class=\"sk-toggleable__content\"><pre>XGBClassifier(base_score=None, booster=None, callbacks=None,\n",
              "              colsample_bylevel=None, colsample_bynode=None,\n",
              "              colsample_bytree=0.8, device=None, early_stopping_rounds=None,\n",
              "              enable_categorical=False, eval_metric=None, feature_types=None,\n",
              "              gamma=None, grow_policy=None, importance_type=None,\n",
              "              interaction_constraints=None, learning_rate=0.08, max_bin=None,\n",
              "              max_cat_threshold=None, max_cat_to_onehot=None,\n",
              "              max_delta_step=None, max_depth=6, max_leaves=None,\n",
              "              min_child_weight=None, missing=nan, monotone_constraints=None,\n",
              "              multi_strategy=None, n_estimators=200, n_jobs=None, num_class=10,\n",
              "              num_parallel_tree=None, ...)</pre></div></div></div></div></div>"
            ],
            "text/plain": [
              "XGBClassifier(base_score=None, booster=None, callbacks=None,\n",
              "              colsample_bylevel=None, colsample_bynode=None,\n",
              "              colsample_bytree=0.8, device=None, early_stopping_rounds=None,\n",
              "              enable_categorical=False, eval_metric=None, feature_types=None,\n",
              "              gamma=None, grow_policy=None, importance_type=None,\n",
              "              interaction_constraints=None, learning_rate=0.08, max_bin=None,\n",
              "              max_cat_threshold=None, max_cat_to_onehot=None,\n",
              "              max_delta_step=None, max_depth=6, max_leaves=None,\n",
              "              min_child_weight=None, missing=nan, monotone_constraints=None,\n",
              "              multi_strategy=None, n_estimators=200, n_jobs=None, num_class=10,\n",
              "              num_parallel_tree=None, ...)"
            ]
          },
          "execution_count": 29,
          "metadata": {},
          "output_type": "execute_result"
        }
      ],
      "source": [
        "model_xgb_multi.fit(train, y_train)"
      ]
    },
    {
      "cell_type": "code",
      "execution_count": null,
      "metadata": {
        "colab": {
          "base_uri": "https://localhost:8080/"
        },
        "id": "Ai4FfPO-j45L",
        "outputId": "3d28f97b-c4a9-4bdd-d116-812e7d3150de"
      },
      "outputs": [
        {
          "data": {
            "text/plain": [
              "['model_xgb_multi.pkl']"
            ]
          },
          "execution_count": 30,
          "metadata": {},
          "output_type": "execute_result"
        }
      ],
      "source": [
        "joblib.dump(model_xgb_multi, 'model_xgb_multi.pkl')"
      ]
    },
    {
      "cell_type": "code",
      "execution_count": null,
      "metadata": {
        "id": "zkFr_dx9S3Bf"
      },
      "outputs": [],
      "source": [
        "#model_lgb_multi = joblib.load('/content/model_lgb_multi.pkl')\n",
        "#model_xgb_multi = joblib.load('/content/model_xgb_multi.pkl')\n",
        "#model_rf = joblib.load('/content/model_rf.pkl')\n",
        "#vectorizador = joblib.load('/content/vectorizador.pkl')"
      ]
    },
    {
      "cell_type": "code",
      "execution_count": null,
      "metadata": {
        "colab": {
          "base_uri": "https://localhost:8080/"
        },
        "id": "UEWLS31IyoDf",
        "outputId": "c3dd0923-2557-40a7-aa2b-9615e9e151fe"
      },
      "outputs": [
        {
          "name": "stdout",
          "output_type": "stream",
          "text": [
            "Hola\n"
          ]
        }
      ],
      "source": [
        "print(\"Hola\")"
      ]
    },
    {
      "cell_type": "code",
      "execution_count": null,
      "metadata": {
        "id": "zSgnzBhaKKk6"
      },
      "outputs": [],
      "source": [
        "test,_ = preprocess_and_vectorize(x_test,vectorizador)"
      ]
    },
    {
      "cell_type": "code",
      "execution_count": null,
      "metadata": {
        "id": "naazbuIfrszx"
      },
      "outputs": [],
      "source": [
        "predictions_xgb_multi = model_xgb_multi.predict(test)"
      ]
    },
    {
      "cell_type": "code",
      "execution_count": null,
      "metadata": {
        "colab": {
          "base_uri": "https://localhost:8080/"
        },
        "id": "6SbvjK9xyXGB",
        "outputId": "6b29b5d1-bb88-4281-a405-e39b0b10e8a2"
      },
      "outputs": [
        {
          "name": "stdout",
          "output_type": "stream",
          "text": [
            "Precision: 98.19013563501849\n"
          ]
        }
      ],
      "source": [
        "accuracy = accuracy_score(y_test, predictions_xgb_multi) # Use iloc to access the column by index in the DataFrame\n",
        "print(f\"Precision: {accuracy*100}\")"
      ]
    },
    {
      "cell_type": "code",
      "execution_count": null,
      "metadata": {
        "colab": {
          "base_uri": "https://localhost:8080/"
        },
        "id": "6r_b-rwbyX-n",
        "outputId": "0b77801e-5d6a-4915-a3d2-49fdb31b5215"
      },
      "outputs": [
        {
          "name": "stdout",
          "output_type": "stream",
          "text": [
            "todo bien\n"
          ]
        }
      ],
      "source": [
        "print(\"todo bien\")"
      ]
    }
  ],
  "metadata": {
    "colab": {
      "provenance": []
    },
    "kernelspec": {
      "display_name": "Python 3",
      "name": "python3"
    },
    "language_info": {
      "name": "python"
    }
  },
  "nbformat": 4,
  "nbformat_minor": 0
}
